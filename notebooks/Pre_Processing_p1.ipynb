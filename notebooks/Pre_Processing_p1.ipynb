{
 "cells": [
  {
   "cell_type": "markdown",
   "metadata": {},
   "source": [
    "# Pre Processing Part 1\n",
    "This notebook focuses on pre processing the FHVHV dataset, with relevant sections outlined"
   ]
  },
  {
   "cell_type": "markdown",
   "metadata": {},
   "source": [
    "# 1. Filtering Data\n",
    "For this section, we will look to deal with missing attributes,incorectly recorded data, missing data and other important trends. "
   ]
  },
  {
   "cell_type": "code",
   "execution_count": 1,
   "metadata": {},
   "outputs": [
    {
     "name": "stdout",
     "output_type": "stream",
     "text": [
      "22/08/23 00:12:19 WARN Utils: Your hostname, James-N580VD-DM229T resolves to a loopback address: 127.0.1.1; using 172.27.35.106 instead (on interface eth0)\n",
      "22/08/23 00:12:19 WARN Utils: Set SPARK_LOCAL_IP if you need to bind to another address\n"
     ]
    },
    {
     "name": "stderr",
     "output_type": "stream",
     "text": [
      "Setting default log level to \"WARN\".\n",
      "To adjust logging level use sc.setLogLevel(newLevel). For SparkR, use setLogLevel(newLevel).\n"
     ]
    },
    {
     "name": "stdout",
     "output_type": "stream",
     "text": [
      "22/08/23 00:12:21 WARN NativeCodeLoader: Unable to load native-hadoop library for your platform... using builtin-java classes where applicable\n"
     ]
    }
   ],
   "source": [
    "# Open Spark session \n",
    "from pyspark.sql import SparkSession, functions as F\n",
    "\n",
    "\n",
    "# Create a spark session (which will run spark jobs)\n",
    "spark = (\n",
    "    SparkSession.builder.appName(\"Data_Explorer\")\n",
    "    .config(\"spark.sql.repl.eagerEval.enabled\", True) \n",
    "    .config(\"spark.sql.parquet.cacheMetadata\", \"true\")\n",
    "    .config(\"spark.sql.session.timeZone\", \"Etc/UTC\")\n",
    "    .config(\"spark.driver.memory\", \"4g\")\n",
    "    .getOrCreate()\n",
    ")"
   ]
  },
  {
   "cell_type": "code",
   "execution_count": 2,
   "metadata": {},
   "outputs": [
    {
     "name": "stderr",
     "output_type": "stream",
     "text": [
      "                                                                                \r"
     ]
    }
   ],
   "source": [
    "# First lets read the dataset(s) ('march data will be used to testing predictive power')\n",
    "#fhvfv\n",
    "fhvhv_2021_09 = spark.read.parquet('../data/raw/fhvhv_tripdata_2021-09.parquet')\n",
    "fhvhv_2021_10 = spark.read.parquet('../data/raw/fhvhv_tripdata_2021-10.parquet')\n",
    "fhvhv_2021_11 = spark.read.parquet('../data/raw/fhvhv_tripdata_2021-11.parquet')\n",
    "fhvhv_2021_12 = spark.read.parquet('../data/raw/fhvhv_tripdata_2021-12.parquet')\n",
    "fhvhv_2022_01 = spark.read.parquet('../data/raw/fhvhv_tripdata_2022-01.parquet')\n",
    "fhvhv_2022_02 = spark.read.parquet('../data/raw/fhvhv_tripdata_2022-02.parquet')\n",
    "fhvhv_2022_03 = spark.read.parquet('../data/raw/fhvhv_tripdata_2022-03.parquet')"
   ]
  },
  {
   "cell_type": "code",
   "execution_count": 3,
   "metadata": {},
   "outputs": [],
   "source": [
    "# now lets merge all the sets\n",
    "fhvhv_taxi = fhvhv_2021_09.union(fhvhv_2021_10).union(fhvhv_2021_11).union(fhvhv_2021_12).union(fhvhv_2022_01).union(fhvhv_2022_02).union(fhvhv_2022_03) "
   ]
  },
  {
   "cell_type": "markdown",
   "metadata": {},
   "source": [
    "The most important part of filtering the dataset, is ensuring that invalid records are not included in the model training dataset, expecially considering the frequency type data that will be captured. there is a higher importance of identifying trips invalid by small distance, no pay, or way too long/short, which should be used to remove outliers"
   ]
  },
  {
   "cell_type": "code",
   "execution_count": 4,
   "metadata": {},
   "outputs": [],
   "source": [
    "# Lets also look at missing values (uncomment below to see tables)\n",
    "#####\n",
    "# and for fhvhv\n",
    "cols_2 = [f\"any({col} is null) as {col}_contains_null\" for col in fhvhv_taxi.columns]\n",
    "#fhvfv_1.selectExpr(cols_2).show()"
   ]
  },
  {
   "cell_type": "markdown",
   "metadata": {},
   "source": [
    "As all the important features are not null, no imputation is required"
   ]
  },
  {
   "cell_type": "markdown",
   "metadata": {},
   "source": [
    "The following filtering measures are taken, and further described/justified in the report\n",
    "- Remove taxi data from Newark Airport (PULocationID == 1) and ensure pickup and drop off locations are valid\n",
    "- ensure that the trip time is under 3 hours \n",
    "- ensure distance is not negative\n",
    "- trip cost is not $0 USD\n",
    "- trip records are in described date range "
   ]
  },
  {
   "cell_type": "code",
   "execution_count": 5,
   "metadata": {},
   "outputs": [],
   "source": [
    "# For the date filter, need to convert each pickup date time to the format, 'YYYY-MM-DD'\n",
    "from pyspark.sql.functions import *\n",
    "fhvhv_taxi = fhvhv_taxi.withColumn(\"date\",to_date(col(\"Pickup_datetime\")))"
   ]
  },
  {
   "cell_type": "code",
   "execution_count": 6,
   "metadata": {},
   "outputs": [],
   "source": [
    "fhvhv_taxi.createOrReplaceTempView('fhvfv_taxi')\n",
    "taxi_data = spark.sql(\"\"\" \n",
    "select Pickup_datetime, Dropoff_datetime, PULocationID, trip_time, date from fhvfv_taxi\n",
    "where driver_pay != 0 and \n",
    "(trip_miles > 1 or trip_miles < -1) and\n",
    "trip_time > 60 and trip_time < 10000 and\n",
    "date >= '2021-09-01' and date < '2022-04-01' and\n",
    "PULocationID > 1 and PULocationID <= 263 and\n",
    "DOLocationID > 1 and DOLocationID <= 263\n",
    "\"\"\")"
   ]
  },
  {
   "cell_type": "markdown",
   "metadata": {},
   "source": [
    "# Dataset aggregation\n",
    "Now we will group taxi trips by the folowwing attributes to get the aggregated statistics required for modeling later on\n",
    "- Date rounded to nearest hour\n",
    "- Borough_Zone (derived below)"
   ]
  },
  {
   "cell_type": "code",
   "execution_count": 7,
   "metadata": {},
   "outputs": [],
   "source": [
    "# To setup our taxi data to reflect the zones we want to define (group by Borough and service_Zone), we can create a new attribute which h\n",
    "# holds all this information. This can be done by just joining them as seperate attributes (by PULocationID), then joining them together\n",
    "# as a string. E.g ManHatten_Yellow_Zone. In reality, this just needs to be performed for Manhatten and the airports \n",
    "taxi_zones = spark.read.csv('../data/datasets/taxi_zones/taxi+_zone_lookup.csv', header=True)"
   ]
  },
  {
   "cell_type": "code",
   "execution_count": 8,
   "metadata": {},
   "outputs": [],
   "source": [
    "# Now join the service_zone and Borough attributes\n",
    "taxi_zones = taxi_zones.select(concat_ws('_', taxi_zones.Borough,taxi_zones.service_zone)\n",
    "              .alias('Borough_Zone'),'LocationID', 'Zone')\n",
    "# We want to differentiate between the 2 airports, as they likely differend (due to scedualed plane arrivals/departures) by hour\n",
    "taxi_zones = taxi_zones.withColumn('Borough_Zone', when(F.col('Zone') == 'JFK Airport', 'JFK Airport')\n",
    "                                                   .when(F.col('Zone') == 'LaGuardia Airport', 'LaGuardia Airport')\n",
    "                                                   .otherwise(F.col('Borough_Zone')))\n",
    "taxi_zones = taxi_zones.select('Borough_Zone', 'LocationID')"
   ]
  },
  {
   "cell_type": "code",
   "execution_count": 9,
   "metadata": {},
   "outputs": [],
   "source": [
    "taxi_data = taxi_data.join(taxi_zones, taxi_data.PULocationID == taxi_zones.LocationID, how = 'Left')"
   ]
  },
  {
   "cell_type": "code",
   "execution_count": 10,
   "metadata": {},
   "outputs": [],
   "source": [
    "# Lets rename the boroughs_Zones with only one combination of Borough and service_Zone \n",
    "taxi_data = taxi_data.withColumn('Borough_Zone', when(col('Borough_Zone') == 'Queens_Boro Zone','Queens')\n",
    "                                                 .when(col('Borough_Zone') == 'Bronx_Boro Zone','Bronx')\n",
    "                                                 .when(col('Borough_Zone') == 'Brooklyn_Boro Zone','Brooklyn')\n",
    "                                                 .when(col('Borough_Zone') == 'Staten Island_Boro Zone','Staten Island')\n",
    "                                                 .otherwise(col('Borough_Zone')))\n"
   ]
  },
  {
   "cell_type": "code",
   "execution_count": 11,
   "metadata": {},
   "outputs": [],
   "source": [
    "# To ensure that a value of 0 is recorded for instances where no trips occured at a x location at time y, we will \n",
    "# first create a cross joined dataframe with all combinations, then join the aggregated query to it.\n",
    "taxi_data = taxi_data.withColumn(\"hourly_timestamp\", F.date_trunc(\"hour\", col('Pickup_datetime')))\n",
    "# now we can get a d\n",
    "\n",
    "all_combinations = taxi_data.select(['hourly_timestamp']).distinct()\n",
    "all_combinations = all_combinations.crossJoin(taxi_data.select(['Borough_Zone']).distinct())"
   ]
  },
  {
   "cell_type": "code",
   "execution_count": 12,
   "metadata": {},
   "outputs": [],
   "source": [
    "# Experimental node\n",
    "# Planned to create an incremental attribute, but did not make final cut\n",
    "#gg = all_combinations.sort(['date', 'Hour'])\n",
    "#gg.withColumn('index', monotonically_increasing_id())"
   ]
  },
  {
   "cell_type": "code",
   "execution_count": 13,
   "metadata": {},
   "outputs": [],
   "source": [
    "# now we are going to aggregation by hour, PULocationID and date\n",
    "import pyspark.sql.functions as F\n",
    "# now we can group the data \n",
    "taxi_data.createOrReplaceTempView('taxi2')\n",
    "taxi_data_agg = spark.sql(\"\"\"\n",
    "Select hourly_timestamp, Borough_Zone, count(*) as Count from taxi2\n",
    "group by hourly_timestamp, Borough_Zone\n",
    "order by hourly_timestamp\n",
    "\"\"\")\n",
    "###### Plot aggregation \n",
    "# This data for figures 1 & 2\n",
    "taxi_data_fig1 = spark.sql(\"\"\"\n",
    "Select PULocationID as LocationID, Borough_Zone, count(*) as Count from taxi2\n",
    "group by PUlocationID, Borough_Zone\n",
    "\"\"\")\n",
    "# Plot 2\n",
    "figure_2_data = taxi_data.withColumn('Hour', F.hour('hourly_timestamp'))\n",
    "figure_2_data.createOrReplaceTempView('taxi2')\n",
    "figure_2_data = spark.sql(\"\"\"\n",
    "Select Hour, PULocationID, Borough_Zone, count(*) as Count from taxi2\n",
    "group by Hour, PULocationID, Borough_Zone\n",
    "\"\"\")\n"
   ]
  },
  {
   "cell_type": "markdown",
   "metadata": {},
   "source": [
    "# Plotting "
   ]
  },
  {
   "cell_type": "code",
   "execution_count": 14,
   "metadata": {},
   "outputs": [
    {
     "name": "stderr",
     "output_type": "stream",
     "text": [
      "                                                                                \r"
     ]
    }
   ],
   "source": [
    "# convert plotting dataframe to pandas\n",
    "taxi_data_geoplot = taxi_data_fig1.toPandas()"
   ]
  },
  {
   "cell_type": "code",
   "execution_count": 15,
   "metadata": {},
   "outputs": [],
   "source": [
    "# for geoploting \n",
    "import geopandas as gpd\n",
    "import folium\n",
    "import pandas as pd\n",
    "sf = gpd.read_file(\"../data/datasets/taxi_zones/taxi_zones.shp\")\n",
    "zones = pd.read_csv(\"../data/datasets/taxi_zones/taxi+_zone_lookup.csv\")\n",
    "sf['geometry'] = sf['geometry'].to_crs(\"+proj=longlat +ellps=WGS84 +datum=WGS84 +no_defs\")\n",
    "# merge with data \n",
    "gdf = gpd.GeoDataFrame(\n",
    "    pd.merge(zones, sf, on='LocationID', how='inner')\n",
    ")\n",
    "gdf = gdf[gdf['LocationID'] != 1]\n",
    "geoJSON = gdf[['LocationID', 'geometry']].drop_duplicates('LocationID').to_json()\n",
    "\n",
    "# First plot the average taxi demand per Day\n",
    "_map = folium.Map(location=[40.66, -73.94], tiles=\"cartodbpositron\", zoom_start=10)\n",
    "\n",
    "c = folium.Choropleth(\n",
    "    geo_data=geoJSON, # geoJSON \n",
    "    name='choropleth', # name of plot\n",
    "    data=taxi_data_geoplot, # data source\n",
    "    columns=['LocationID','Count'], # the columns required\n",
    "    key_on='properties.LocationID', # this is from the geoJSON's properties\n",
    "    fill_color='YlOrRd', # color scheme\n",
    "    nan_fill_color='black',\n",
    "    legend_name='Average daily number of taxi trips by pickup taxi zone')\n",
    "_map.add_child(\n",
    "        folium.Marker(location=(40.64698489239527, -73.78653298335013), popup='JFK Airport')\n",
    "    )\n",
    "_map.add_child(\n",
    "        folium.Marker(location=(40.77437570593239, -73.87362864289081), popup='LaGuardia Airport')\n",
    ")\n",
    "c.add_to(_map)\n",
    "_map.save('../plots/Average_Taxi_Demand_Per_Day.html')"
   ]
  },
  {
   "cell_type": "code",
   "execution_count": 17,
   "metadata": {},
   "outputs": [
    {
     "name": "stderr",
     "output_type": "stream",
     "text": [
      "                                                                                \r"
     ]
    }
   ],
   "source": [
    "# The final plot we want to make is a lineplot of the change of hourly demand by borough_Zone\n",
    "figure_2_data = figure_2_data.toPandas()"
   ]
  },
  {
   "cell_type": "code",
   "execution_count": 18,
   "metadata": {},
   "outputs": [
    {
     "data": {
      "text/plain": [
       "<module 'matplotlib.pylab' from '/home/rtdt87/.local/lib/python3.8/site-packages/matplotlib/pylab.py'>"
      ]
     },
     "execution_count": 18,
     "metadata": {},
     "output_type": "execute_result"
    },
    {
     "data": {
      "image/png": "[encoded data removed]",
      "text/plain": [
       "<Figure size 432x288 with 1 Axes>"
      ]
     },
     "metadata": {
      "needs_background": "light"
     },
     "output_type": "display_data"
    }
   ],
   "source": [
    "import seaborn as sns\n",
    "import matplotlib.pylab as plt\n",
    "ax = sns.lineplot(data=figure_2_data, x = 'Hour', y = 'Count', hue='Borough_Zone')\n",
    "ax.set(xlabel='Hour of the day', ylabel='Average Daily Taxi Trips')\n",
    "plt.setp(ax.get_legend().get_texts(), fontsize='6') # for legend text\n",
    "plt.setp(ax.get_legend().get_title(), fontsize='11') \n",
    "plt.legend(bbox_to_anchor=(1.05, 1), loc='upper left', borderaxespad=0)\n",
    "plt.title('The distribution of taxi trips by Borough Zone over an average day')\n",
    "plt\n",
    "# This is saved manually via the plots save feature (far left)"
   ]
  },
  {
   "cell_type": "code",
   "execution_count": 19,
   "metadata": {},
   "outputs": [],
   "source": [
    "# Need to now finish pre processing steps"
   ]
  },
  {
   "cell_type": "code",
   "execution_count": 20,
   "metadata": {},
   "outputs": [],
   "source": [
    "# We can now join the 2 dataframes\n",
    "taxi_dataset = all_combinations.join(taxi_data_agg, on = ['hourly_timestamp', 'Borough_Zone'], how = 'left_outer')\n",
    "# Now replace null values (combinations without counts) with 0\n",
    "taxi_dataset = taxi_dataset.fillna({'Count': 0})"
   ]
  },
  {
   "cell_type": "code",
   "execution_count": 21,
   "metadata": {},
   "outputs": [],
   "source": [
    "# add day (mon/tue/...) and date (YYYY-MM-DD) to the dataset\n",
    "taxi_dataset = taxi_dataset.withColumn(\"Day\", date_format('hourly_timestamp', 'EEEE'))\n",
    "taxi_dataset = taxi_dataset.withColumn(\"Date\", to_date('hourly_timestamp'))\n",
    "# select final attributes\n",
    "taxi_dataset = taxi_dataset.select('Date','hourly_timestamp', 'Day', 'Borough_Zone', 'Count')\n"
   ]
  },
  {
   "cell_type": "code",
   "execution_count": 22,
   "metadata": {},
   "outputs": [
    {
     "name": "stderr",
     "output_type": "stream",
     "text": [
      "                                                                                \r"
     ]
    }
   ],
   "source": [
    "# we have now finished the first part of preprocessing, and will save it in curated data \n",
    "taxi_dataset.write.parquet('../data/curated/taxi_data.parquet', mode = 'overwrite')"
   ]
  }
 ],
 "metadata": {
  "kernelspec": {
   "display_name": "Python 3.8.10 64-bit",
   "language": "python",
   "name": "python3"
  },
  "language_info": {
   "codemirror_mode": {
    "name": "ipython",
    "version": 3
   },
   "file_extension": ".py",
   "mimetype": "text/x-python",
   "name": "python",
   "nbconvert_exporter": "python",
   "pygments_lexer": "ipython3",
   "version": "3.8.10"
  },
  "orig_nbformat": 4,
  "vscode": {
   "interpreter": {
    "hash": "916dbcbb3f70747c44a77c7bcd40155683ae19c65e1c03b4aa3499c5328201f1"
   }
  }
 },
 "nbformat": 4,
 "nbformat_minor": 2
}
