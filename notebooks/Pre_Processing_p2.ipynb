{
 "cells": [
  {
   "cell_type": "markdown",
   "metadata": {},
   "source": [
    "Now that we have cleaned the data and have it in our desired form, we can now begin joining with our external datasets.\n",
    "\n",
    "These datasets include: \n",
    "- Weather (daily temperature) [https://www.ncdc.noaa.gov/cdo-web/search]\n",
    "- Public/special Holidays \n",
    "- Covid-19 case dataset"
   ]
  },
  {
   "cell_type": "code",
   "execution_count": 1,
   "metadata": {},
   "outputs": [
    {
     "name": "stdout",
     "output_type": "stream",
     "text": [
      "22/08/23 00:19:32 WARN Utils: Your hostname, James-N580VD-DM229T resolves to a loopback address: 127.0.1.1; using 172.27.35.106 instead (on interface eth0)\n",
      "22/08/23 00:19:32 WARN Utils: Set SPARK_LOCAL_IP if you need to bind to another address\n"
     ]
    },
    {
     "name": "stderr",
     "output_type": "stream",
     "text": [
      "Setting default log level to \"WARN\".\n",
      "To adjust logging level use sc.setLogLevel(newLevel). For SparkR, use setLogLevel(newLevel).\n"
     ]
    },
    {
     "name": "stdout",
     "output_type": "stream",
     "text": [
      "22/08/23 00:19:34 WARN NativeCodeLoader: Unable to load native-hadoop library for your platform... using builtin-java classes where applicable\n"
     ]
    }
   ],
   "source": [
    "# Open Spark session \n",
    "from pyspark.sql import SparkSession, functions as F\n",
    "\n",
    "\n",
    "# Create a spark session (which will run spark jobs)\n",
    "spark = (\n",
    "    SparkSession.builder.appName(\"Data_Explorer\")\n",
    "    .config(\"spark.sql.repl.eagerEval.enabled\", True) \n",
    "    .config(\"spark.sql.parquet.cacheMetadata\", \"true\")\n",
    "    .config(\"spark.sql.session.timeZone\", \"Etc/UTC\")\n",
    "    .config(\"spark.driver.memory\", \"4g\")\n",
    "    .getOrCreate()\n",
    ")"
   ]
  },
  {
   "cell_type": "code",
   "execution_count": 2,
   "metadata": {},
   "outputs": [
    {
     "name": "stderr",
     "output_type": "stream",
     "text": [
      "                                                                                \r"
     ]
    }
   ],
   "source": [
    "taxi_data = spark.read.parquet('../data/curated/taxi_data.parquet')"
   ]
  },
  {
   "cell_type": "markdown",
   "metadata": {},
   "source": [
    "# Join & reformat attributes Datasets\n",
    "Now, we can join the weather/climate dataset, covid recordings as well as the public holiday one"
   ]
  },
  {
   "cell_type": "code",
   "execution_count": 3,
   "metadata": {},
   "outputs": [],
   "source": [
    "# load the data \n",
    "import pandas as pd\n",
    "daily_climate = pd.read_csv('../data/curated/Hourly_climate_processed.csv', index_col=[0])\n",
    "holiday_data = pd.read_csv('../data/curated/holiday_data.csv', index_col=[0])\n",
    "covid_data = pd.read_csv('../data/curated/COVID-19_7-AVG.csv', index_col=[0])"
   ]
  },
  {
   "cell_type": "code",
   "execution_count": 4,
   "metadata": {},
   "outputs": [],
   "source": [
    "# convert to spark\n",
    "daily_climate = spark.createDataFrame(daily_climate) \n",
    "holiday_data = spark.createDataFrame(holiday_data)\n",
    "covid_data = spark.createDataFrame(covid_data)"
   ]
  },
  {
   "cell_type": "code",
   "execution_count": 5,
   "metadata": {},
   "outputs": [],
   "source": [
    "#convert to universal datetime type for all datasets \n",
    "daily_climate = daily_climate.withColumnRenamed('DATE', 'Date_climate')\n",
    "daily_climate = daily_climate.withColumnRenamed('Hour', 'Hour_climate')\n",
    "holiday_data = holiday_data.withColumnRenamed('date', 'Date')\n",
    "covid_data = covid_data.withColumnRenamed('date_of_interest', 'Date')\n",
    "covid_data = covid_data.withColumnRenamed('ALL_CASE_COUNT_7DAY_AVG', 'Covid_7AVG')"
   ]
  },
  {
   "cell_type": "code",
   "execution_count": 6,
   "metadata": {},
   "outputs": [],
   "source": [
    "# now we can left join on our dataset\n",
    "taxi_dataset = taxi_data.join(daily_climate, on = 'hourly_timestamp', how = 'left')\n",
    "taxi_dataset = taxi_dataset.join(holiday_data, on = 'Date', how = 'left')\n",
    "taxi_dataset = taxi_dataset.join(covid_data, on = 'Date', how = 'left')"
   ]
  },
  {
   "cell_type": "code",
   "execution_count": 7,
   "metadata": {},
   "outputs": [],
   "source": [
    "# need to remove the duplicate columns \n",
    "taxi_dataset = taxi_dataset.drop('Date_climate')"
   ]
  },
  {
   "cell_type": "code",
   "execution_count": 8,
   "metadata": {},
   "outputs": [],
   "source": [
    "taxi_dataset = taxi_dataset.fillna({'Holiday': False})\n",
    "# might also be good to just set all holidays exept christmas to public"
   ]
  },
  {
   "cell_type": "code",
   "execution_count": 9,
   "metadata": {},
   "outputs": [],
   "source": [
    "# For Hour, as it will be treated as a factor variable (catergorical), this needs to be seperated\n",
    "from pyspark.sql.functions import *\n",
    "taxi_dataset = taxi_dataset.withColumn('Hour', hour('hourly_timestamp'))\n",
    "taxi_dataset_final = taxi_dataset.drop('hourly_timestamp')"
   ]
  },
  {
   "cell_type": "code",
   "execution_count": 10,
   "metadata": {},
   "outputs": [
    {
     "name": "stderr",
     "output_type": "stream",
     "text": [
      "                                                                                \r"
     ]
    }
   ],
   "source": [
    "# Our table is in final form, and is ready for modeling\n",
    "# Save the data\n",
    "\n",
    "taxi_dataset_final.toPandas().to_csv('../Data/curated/model_data.csv', index=False)"
   ]
  }
 ],
 "metadata": {
  "kernelspec": {
   "display_name": "Python 3.8.10 64-bit",
   "language": "python",
   "name": "python3"
  },
  "language_info": {
   "codemirror_mode": {
    "name": "ipython",
    "version": 3
   },
   "file_extension": ".py",
   "mimetype": "text/x-python",
   "name": "python",
   "nbconvert_exporter": "python",
   "pygments_lexer": "ipython3",
   "version": "3.8.10"
  },
  "orig_nbformat": 4,
  "vscode": {
   "interpreter": {
    "hash": "916dbcbb3f70747c44a77c7bcd40155683ae19c65e1c03b4aa3499c5328201f1"
   }
  }
 },
 "nbformat": 4,
 "nbformat_minor": 2
}
