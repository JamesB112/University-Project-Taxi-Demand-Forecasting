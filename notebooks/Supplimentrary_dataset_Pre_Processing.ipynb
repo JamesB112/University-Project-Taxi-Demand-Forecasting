{
 "cells": [
  {
   "cell_type": "markdown",
   "metadata": {},
   "source": [
    "# Holiday Dataset\n",
    "For this, we will be extracting holiday information from the 'workalendar' library in python "
   ]
  },
  {
   "cell_type": "code",
   "execution_count": 1,
   "metadata": {},
   "outputs": [],
   "source": [
    "# Import our libraries\n",
    "import pandas as pd\n",
    "from workalendar.usa import NewYork"
   ]
  },
  {
   "cell_type": "code",
   "execution_count": 2,
   "metadata": {},
   "outputs": [],
   "source": [
    "# hard coded for just the 2021 and 2022 holiday scedual \n",
    "de_calendar = NewYork()\n",
    "\n",
    "de_calendar = NewYork()\n",
    "holidays1 = pd.DataFrame(de_calendar.holidays(2021), \n",
    "             columns=[\"date\", \"holiday\"])\n",
    "# Keep the 'oberved', as they represent public holidays effect on weekdays, when scedualed for the weekend\n",
    "holidays2 = pd.DataFrame(de_calendar.holidays(2022), \n",
    "             columns=[\"date\", \"holiday\"])\n",
    "\n",
    "holiday_data = pd.concat([holidays1, holidays2])"
   ]
  },
  {
   "cell_type": "code",
   "execution_count": 3,
   "metadata": {},
   "outputs": [],
   "source": [
    "# We will treat holidays all the same due to rare occurences \n",
    "holiday_data['holiday'] = holiday_data['holiday'].apply(lambda x: bool(x))"
   ]
  },
  {
   "cell_type": "code",
   "execution_count": 4,
   "metadata": {},
   "outputs": [],
   "source": [
    "# now save the dataset\n",
    "\n",
    "# might look to convert to eaither public holiday/Christmas or new years\n",
    "holiday_data.to_csv('../data/curated/holiday_data.csv')"
   ]
  },
  {
   "cell_type": "markdown",
   "metadata": {},
   "source": [
    "# Weather\n",
    "This dataset has been requested and downloaded off the https://www.ncdc.noaa.gov/cdo-web/search wesite, with recordings from the JFK INTERNATIONAL AIRPORT, NY US on an hourly cycle, between september 2021 to the end of march "
   ]
  },
  {
   "cell_type": "code",
   "execution_count": 5,
   "metadata": {},
   "outputs": [],
   "source": [
    "# Load data \n",
    "climate_data = pd.read_csv('../data/datasets/Hourly_climate.csv')"
   ]
  },
  {
   "cell_type": "code",
   "execution_count": 6,
   "metadata": {},
   "outputs": [],
   "source": [
    "# first remove the columns we do not need \n",
    "climate_data = climate_data.loc[:, ['DATE', 'DEW', 'TMP', 'WND']]"
   ]
  },
  {
   "cell_type": "code",
   "execution_count": 7,
   "metadata": {},
   "outputs": [],
   "source": [
    "# Functions \n",
    "#####################\n",
    "# This is to reformat TMP and DEW attribute \n",
    "def tmp_convert(temp):\n",
    "    if temp[1:] == '9999':\n",
    "        return np.nan\n",
    "    else:\n",
    "        if temp[0] == '+' :\n",
    "            return float(temp[1:]) * 1 / 10\n",
    "        else:\n",
    "            return float(temp[1:]) * -1 / 10\n",
    "# this is to reformat WND attribute \n",
    "def wnd_convert(wnd):\n",
    "    wnd = wnd.split(',')[-2]\n",
    "    if wnd == '9999':\n",
    "        return np.nan\n",
    "    else:\n",
    "        return float(wnd) / 10\n",
    "#################\n",
    "\n",
    "# now we need to preprocess the data to the format suiting the taxi_dataset attributes\n",
    "import numpy as np\n",
    "# converting to usable date\n",
    "climate_data['DATE'] = climate_data['DATE'].str.replace(r'T', ' ', regex=True).astype('datetime64[ns]')\n",
    "# round to the nearest hour\n",
    "climate_data['hourly_timestamp']  = climate_data['DATE'].dt.round('h')\n",
    "\n",
    "climate_data['DATE'] = climate_data['DATE'].apply(lambda x: x.date())\n",
    "# now, need to extract the DEW, TMP and WND attributes, and format float(temp[1:]) * -1 / 10\n",
    "\n",
    "# for temp\n",
    "climate_data['TMP'] = climate_data['TMP'].str.replace(r',.', '', regex=True)\n",
    "climate_data['TMP'] = climate_data['TMP'].apply(tmp_convert)\n",
    "# fir WND\n",
    "climate_data['WND'] = climate_data['WND'].apply(wnd_convert)\n",
    "# for dew\n",
    "climate_data['DEW'] = climate_data['DEW'].str.replace(r',.', '', regex=True)\n",
    "climate_data['DEW'] = climate_data['DEW'].apply(tmp_convert)"
   ]
  },
  {
   "cell_type": "code",
   "execution_count": 8,
   "metadata": {},
   "outputs": [],
   "source": [
    "# remove duplicates \n",
    "climate_data = climate_data.drop_duplicates(subset=['hourly_timestamp'])"
   ]
  },
  {
   "cell_type": "code",
   "execution_count": 9,
   "metadata": {},
   "outputs": [
    {
     "data": {
      "text/plain": [
       "False"
      ]
     },
     "execution_count": 9,
     "metadata": {},
     "output_type": "execute_result"
    }
   ],
   "source": [
    "climate_data.isnull().values.any()\n",
    "# as there are no null values, don't need to imputate"
   ]
  },
  {
   "cell_type": "code",
   "execution_count": 10,
   "metadata": {},
   "outputs": [],
   "source": [
    "# now save data\n",
    "climate_data.to_csv('../data/curated/Hourly_climate_processed.csv')"
   ]
  },
  {
   "cell_type": "markdown",
   "metadata": {},
   "source": [
    "# Covid Dataset"
   ]
  },
  {
   "cell_type": "code",
   "execution_count": 11,
   "metadata": {},
   "outputs": [],
   "source": [
    "# For this, we only care about the 7-day average for each boroughs\n",
    "covid_7_avg = pd.read_csv('../data/datasets/COVID-19_Daily_Counts_of_Cases__Hospitalizations__and_Deaths.csv')"
   ]
  },
  {
   "cell_type": "code",
   "execution_count": 12,
   "metadata": {},
   "outputs": [],
   "source": [
    "covid_7_avg = covid_7_avg.loc[:, ['date_of_interest', 'ALL_CASE_COUNT_7DAY_AVG']]"
   ]
  },
  {
   "cell_type": "code",
   "execution_count": 13,
   "metadata": {},
   "outputs": [],
   "source": [
    "covid_7_avg['date_of_interest'] = covid_7_avg['date_of_interest'].astype('datetime64[ns]')"
   ]
  },
  {
   "cell_type": "code",
   "execution_count": 14,
   "metadata": {},
   "outputs": [],
   "source": [
    "# reomove recordings for anything before 2021-09-01\n",
    "covid_7_avg = covid_7_avg[covid_7_avg['date_of_interest'] >= '2021-09-01']"
   ]
  },
  {
   "cell_type": "code",
   "execution_count": 15,
   "metadata": {},
   "outputs": [],
   "source": [
    "# now save as csv\n",
    "covid_7_avg.to_csv('../data/curated/COVID-19_7-AVG.csv')"
   ]
  }
 ],
 "metadata": {
  "kernelspec": {
   "display_name": "Python 3.8.10 64-bit",
   "language": "python",
   "name": "python3"
  },
  "language_info": {
   "codemirror_mode": {
    "name": "ipython",
    "version": 3
   },
   "file_extension": ".py",
   "mimetype": "text/x-python",
   "name": "python",
   "nbconvert_exporter": "python",
   "pygments_lexer": "ipython3",
   "version": "3.8.10"
  },
  "orig_nbformat": 4,
  "vscode": {
   "interpreter": {
    "hash": "916dbcbb3f70747c44a77c7bcd40155683ae19c65e1c03b4aa3499c5328201f1"
   }
  }
 },
 "nbformat": 4,
 "nbformat_minor": 2
}
